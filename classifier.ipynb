{
  "nbformat": 4,
  "nbformat_minor": 0,
  "metadata": {
    "colab": {
      "name": "classifier.ipynb",
      "provenance": [],
      "collapsed_sections": [],
      "toc_visible": true
    },
    "kernelspec": {
      "display_name": "Python 3",
      "name": "python3"
    }
  },
  "cells": [
    {
      "cell_type": "markdown",
      "metadata": {
        "id": "pggfxt0XEeeH"
      },
      "source": [
        "## Bank Transaction Classification"
      ]
    },
    {
      "cell_type": "code",
      "metadata": {
        "id": "ZcLavOSzUvHr"
      },
      "source": [
        "import numpy as np\r\n",
        "import pandas as pd\r\n",
        "import matplotlib.pyplot as plt\r\n",
        "import random\r\n",
        "import string\r\n",
        "from collections import Counter"
      ],
      "execution_count": 88,
      "outputs": []
    },
    {
      "cell_type": "code",
      "metadata": {
        "id": "E_M-a3bM4hr6"
      },
      "source": [
        "pd.options.mode.chained_assignment = None  # disable false positive warning about SettingWithCopyWarning"
      ],
      "execution_count": 89,
      "outputs": []
    },
    {
      "cell_type": "code",
      "metadata": {
        "colab": {
          "base_uri": "https://localhost:8080/",
          "height": 419
        },
        "id": "pFR0-n6jIIBB",
        "outputId": "dbb02f30-f652-4583-806e-12a01e5f5a78"
      },
      "source": [
        "df = pd.read_csv('/content/drive/MyDrive/Colab Notebooks/bank.csv')\r\n",
        "df.drop('Unnamed: 0', axis=1, inplace=True)\r\n",
        "df"
      ],
      "execution_count": 90,
      "outputs": [
        {
          "output_type": "execute_result",
          "data": {
            "text/html": [
              "<div>\n",
              "<style scoped>\n",
              "    .dataframe tbody tr th:only-of-type {\n",
              "        vertical-align: middle;\n",
              "    }\n",
              "\n",
              "    .dataframe tbody tr th {\n",
              "        vertical-align: top;\n",
              "    }\n",
              "\n",
              "    .dataframe thead th {\n",
              "        text-align: right;\n",
              "    }\n",
              "</style>\n",
              "<table border=\"1\" class=\"dataframe\">\n",
              "  <thead>\n",
              "    <tr style=\"text-align: right;\">\n",
              "      <th></th>\n",
              "      <th>trans_id</th>\n",
              "      <th>date</th>\n",
              "      <th>value date</th>\n",
              "      <th>deposit</th>\n",
              "      <th>wdrawl</th>\n",
              "      <th>balance</th>\n",
              "      <th>t_desc</th>\n",
              "    </tr>\n",
              "  </thead>\n",
              "  <tbody>\n",
              "    <tr>\n",
              "      <th>0</th>\n",
              "      <td>2009227</td>\n",
              "      <td>180901</td>\n",
              "      <td>180901</td>\n",
              "      <td>1800.0</td>\n",
              "      <td>0.0</td>\n",
              "      <td>36793.0</td>\n",
              "      <td>VIN/AMAZONINTE/948051154875/596608348875/</td>\n",
              "    </tr>\n",
              "    <tr>\n",
              "      <th>1</th>\n",
              "      <td>346565</td>\n",
              "      <td>180901</td>\n",
              "      <td>180901</td>\n",
              "      <td>0.0</td>\n",
              "      <td>17800.0</td>\n",
              "      <td>57538.3</td>\n",
              "      <td>REF:302426291684/157724298548/</td>\n",
              "    </tr>\n",
              "    <tr>\n",
              "      <th>2</th>\n",
              "      <td>863051</td>\n",
              "      <td>180901</td>\n",
              "      <td>180901</td>\n",
              "      <td>0.0</td>\n",
              "      <td>13200.0</td>\n",
              "      <td>31341.5</td>\n",
              "      <td>UPI/032332076657/UPI/q46004458@ybl/Paytm Payments</td>\n",
              "    </tr>\n",
              "    <tr>\n",
              "      <th>3</th>\n",
              "      <td>967352</td>\n",
              "      <td>180901</td>\n",
              "      <td>180901</td>\n",
              "      <td>0.0</td>\n",
              "      <td>16171.0</td>\n",
              "      <td>78761.9</td>\n",
              "      <td>UPI/117871255695/UPI/q50205117@ybl/Paytm Payments</td>\n",
              "    </tr>\n",
              "    <tr>\n",
              "      <th>4</th>\n",
              "      <td>967471</td>\n",
              "      <td>180901</td>\n",
              "      <td>180901</td>\n",
              "      <td>0.0</td>\n",
              "      <td>20200.0</td>\n",
              "      <td>58561.9</td>\n",
              "      <td>REF:017092635989/802484142006/</td>\n",
              "    </tr>\n",
              "    <tr>\n",
              "      <th>...</th>\n",
              "      <td>...</td>\n",
              "      <td>...</td>\n",
              "      <td>...</td>\n",
              "      <td>...</td>\n",
              "      <td>...</td>\n",
              "      <td>...</td>\n",
              "      <td>...</td>\n",
              "    </tr>\n",
              "    <tr>\n",
              "      <th>99755</th>\n",
              "      <td>3626622</td>\n",
              "      <td>181231</td>\n",
              "      <td>181231</td>\n",
              "      <td>62.3</td>\n",
              "      <td>0.0</td>\n",
              "      <td>13729.4</td>\n",
              "      <td>NEFT-N927852783428571-GPPF/INTEREST-AXIS BANK</td>\n",
              "    </tr>\n",
              "    <tr>\n",
              "      <th>99756</th>\n",
              "      <td>3627616</td>\n",
              "      <td>181231</td>\n",
              "      <td>181231</td>\n",
              "      <td>81.3</td>\n",
              "      <td>0.0</td>\n",
              "      <td>19544.9</td>\n",
              "      <td>NEFT-N175592009501463-UZVE/INTEREST-AXIS BANK</td>\n",
              "    </tr>\n",
              "    <tr>\n",
              "      <th>99757</th>\n",
              "      <td>3625403</td>\n",
              "      <td>181231</td>\n",
              "      <td>181231</td>\n",
              "      <td>60.2</td>\n",
              "      <td>0.0</td>\n",
              "      <td>14638.2</td>\n",
              "      <td>NEFT-N035911158572785-KEMR/INTEREST-SBI</td>\n",
              "    </tr>\n",
              "    <tr>\n",
              "      <th>99758</th>\n",
              "      <td>3626683</td>\n",
              "      <td>181231</td>\n",
              "      <td>181231</td>\n",
              "      <td>107.5</td>\n",
              "      <td>0.0</td>\n",
              "      <td>23453.0</td>\n",
              "      <td>NEFT-N366302381620227-KYJQ/INTEREST-AXIS BANK</td>\n",
              "    </tr>\n",
              "    <tr>\n",
              "      <th>99759</th>\n",
              "      <td>3626540</td>\n",
              "      <td>181231</td>\n",
              "      <td>181231</td>\n",
              "      <td>164.1</td>\n",
              "      <td>0.0</td>\n",
              "      <td>41642.9</td>\n",
              "      <td>NEFT-N465386213175441-KUWN/INTEREST-HDFC BANK</td>\n",
              "    </tr>\n",
              "  </tbody>\n",
              "</table>\n",
              "<p>99760 rows × 7 columns</p>\n",
              "</div>"
            ],
            "text/plain": [
              "       trans_id  ...                                             t_desc\n",
              "0       2009227  ...          VIN/AMAZONINTE/948051154875/596608348875/\n",
              "1        346565  ...                     REF:302426291684/157724298548/\n",
              "2        863051  ...  UPI/032332076657/UPI/q46004458@ybl/Paytm Payments\n",
              "3        967352  ...  UPI/117871255695/UPI/q50205117@ybl/Paytm Payments\n",
              "4        967471  ...                     REF:017092635989/802484142006/\n",
              "...         ...  ...                                                ...\n",
              "99755   3626622  ...      NEFT-N927852783428571-GPPF/INTEREST-AXIS BANK\n",
              "99756   3627616  ...      NEFT-N175592009501463-UZVE/INTEREST-AXIS BANK\n",
              "99757   3625403  ...            NEFT-N035911158572785-KEMR/INTEREST-SBI\n",
              "99758   3626683  ...      NEFT-N366302381620227-KYJQ/INTEREST-AXIS BANK\n",
              "99759   3626540  ...      NEFT-N465386213175441-KUWN/INTEREST-HDFC BANK\n",
              "\n",
              "[99760 rows x 7 columns]"
            ]
          },
          "metadata": {
            "tags": []
          },
          "execution_count": 90
        }
      ]
    },
    {
      "cell_type": "markdown",
      "metadata": {
        "id": "rY3Kfavx4F6H"
      },
      "source": [
        "**Note:** I got this data from a hackathon. The transaction statements are truncated by names to respect privacy. These aren't real statements "
      ]
    },
    {
      "cell_type": "code",
      "metadata": {
        "colab": {
          "base_uri": "https://localhost:8080/"
        },
        "id": "DPZQCD1XWLsZ",
        "outputId": "5e9abfdb-a14e-434a-f609-49b45ae144a6"
      },
      "source": [
        "df.pivot_table(index=['t_desc'], aggfunc='size')"
      ],
      "execution_count": 91,
      "outputs": [
        {
          "output_type": "execute_result",
          "data": {
            "text/plain": [
              "t_desc\n",
              "                                             5855\n",
              "000070016532532-MANDATE/CCFJNYFL                1\n",
              "000372154049846-MANDATE/YTWBNZHV                1\n",
              "000735635002157/EMI/ICICI                       1\n",
              "001160390569212-MANDATE/PTXEHXAB                1\n",
              "                                             ... \n",
              "VIN/AMAZONINTE/998841579652/993222974001/       1\n",
              "VIN/AMAZONINTE/998847905576/052584326472/       1\n",
              "VIN/AMAZONINTE/999429922176/761997560224/       1\n",
              "VIN/AMAZONINTE/999873089213/040319976173/       1\n",
              "VIN/AMAZONINTE/999967372531/408787580281/       1\n",
              "Length: 93906, dtype: int64"
            ]
          },
          "metadata": {
            "tags": []
          },
          "execution_count": 91
        }
      ]
    },
    {
      "cell_type": "code",
      "metadata": {
        "colab": {
          "base_uri": "https://localhost:8080/"
        },
        "id": "XFcYEz6iWZxP",
        "outputId": "3842bd8d-8c1b-4c97-e9e5-72655157a982"
      },
      "source": [
        "print('current rows: {}'.format(len(df)))\r\n",
        "df['t_desc'].replace(' ', np.nan, inplace=True) #replacing blank statements with null values\r\n",
        "df.dropna(subset=['t_desc'], inplace=True) #deleting rows with null values\r\n",
        "df.reset_index(drop=True, inplace=True)\r\n",
        "print('after deleting rows with empty values: {}'.format(len(df)))"
      ],
      "execution_count": 92,
      "outputs": [
        {
          "output_type": "stream",
          "text": [
            "current rows: 99760\n",
            "after deleting rows with empty values: 93905\n"
          ],
          "name": "stdout"
        }
      ]
    },
    {
      "cell_type": "code",
      "metadata": {
        "colab": {
          "base_uri": "https://localhost:8080/",
          "height": 419
        },
        "id": "UNwfNDqZYlly",
        "outputId": "d75cf0b9-4c61-4cca-d694-a021eed85e6f"
      },
      "source": [
        "df['words'] = df['t_desc'].str.replace('[^a-zA-Z]', ',') #truncating numbers from transaction statements to make it more readable\r\n",
        "df['words'] = df['words'].str.lstrip(',') #cutting extra commas from left\r\n",
        "df['words'] = df['words'].str.rstrip(',') #cutting extra commas from right\r\n",
        "df[['t_desc','words']]"
      ],
      "execution_count": 93,
      "outputs": [
        {
          "output_type": "execute_result",
          "data": {
            "text/html": [
              "<div>\n",
              "<style scoped>\n",
              "    .dataframe tbody tr th:only-of-type {\n",
              "        vertical-align: middle;\n",
              "    }\n",
              "\n",
              "    .dataframe tbody tr th {\n",
              "        vertical-align: top;\n",
              "    }\n",
              "\n",
              "    .dataframe thead th {\n",
              "        text-align: right;\n",
              "    }\n",
              "</style>\n",
              "<table border=\"1\" class=\"dataframe\">\n",
              "  <thead>\n",
              "    <tr style=\"text-align: right;\">\n",
              "      <th></th>\n",
              "      <th>t_desc</th>\n",
              "      <th>words</th>\n",
              "    </tr>\n",
              "  </thead>\n",
              "  <tbody>\n",
              "    <tr>\n",
              "      <th>0</th>\n",
              "      <td>VIN/AMAZONINTE/948051154875/596608348875/</td>\n",
              "      <td>VIN,AMAZONINTE</td>\n",
              "    </tr>\n",
              "    <tr>\n",
              "      <th>1</th>\n",
              "      <td>REF:302426291684/157724298548/</td>\n",
              "      <td>REF</td>\n",
              "    </tr>\n",
              "    <tr>\n",
              "      <th>2</th>\n",
              "      <td>UPI/032332076657/UPI/q46004458@ybl/Paytm Payments</td>\n",
              "      <td>UPI,,,,,,,,,,,,,,UPI,q,,,,,,,,,ybl,Paytm,Payments</td>\n",
              "    </tr>\n",
              "    <tr>\n",
              "      <th>3</th>\n",
              "      <td>UPI/117871255695/UPI/q50205117@ybl/Paytm Payments</td>\n",
              "      <td>UPI,,,,,,,,,,,,,,UPI,q,,,,,,,,,ybl,Paytm,Payments</td>\n",
              "    </tr>\n",
              "    <tr>\n",
              "      <th>4</th>\n",
              "      <td>REF:017092635989/802484142006/</td>\n",
              "      <td>REF</td>\n",
              "    </tr>\n",
              "    <tr>\n",
              "      <th>...</th>\n",
              "      <td>...</td>\n",
              "      <td>...</td>\n",
              "    </tr>\n",
              "    <tr>\n",
              "      <th>93900</th>\n",
              "      <td>NEFT-N927852783428571-GPPF/INTEREST-AXIS BANK</td>\n",
              "      <td>NEFT,N,,,,,,,,,,,,,,,,GPPF,INTEREST,AXIS,BANK</td>\n",
              "    </tr>\n",
              "    <tr>\n",
              "      <th>93901</th>\n",
              "      <td>NEFT-N175592009501463-UZVE/INTEREST-AXIS BANK</td>\n",
              "      <td>NEFT,N,,,,,,,,,,,,,,,,UZVE,INTEREST,AXIS,BANK</td>\n",
              "    </tr>\n",
              "    <tr>\n",
              "      <th>93902</th>\n",
              "      <td>NEFT-N035911158572785-KEMR/INTEREST-SBI</td>\n",
              "      <td>NEFT,N,,,,,,,,,,,,,,,,KEMR,INTEREST,SBI</td>\n",
              "    </tr>\n",
              "    <tr>\n",
              "      <th>93903</th>\n",
              "      <td>NEFT-N366302381620227-KYJQ/INTEREST-AXIS BANK</td>\n",
              "      <td>NEFT,N,,,,,,,,,,,,,,,,KYJQ,INTEREST,AXIS,BANK</td>\n",
              "    </tr>\n",
              "    <tr>\n",
              "      <th>93904</th>\n",
              "      <td>NEFT-N465386213175441-KUWN/INTEREST-HDFC BANK</td>\n",
              "      <td>NEFT,N,,,,,,,,,,,,,,,,KUWN,INTEREST,HDFC,BANK</td>\n",
              "    </tr>\n",
              "  </tbody>\n",
              "</table>\n",
              "<p>93905 rows × 2 columns</p>\n",
              "</div>"
            ],
            "text/plain": [
              "                                                  t_desc                                              words\n",
              "0              VIN/AMAZONINTE/948051154875/596608348875/                                     VIN,AMAZONINTE\n",
              "1                         REF:302426291684/157724298548/                                                REF\n",
              "2      UPI/032332076657/UPI/q46004458@ybl/Paytm Payments  UPI,,,,,,,,,,,,,,UPI,q,,,,,,,,,ybl,Paytm,Payments\n",
              "3      UPI/117871255695/UPI/q50205117@ybl/Paytm Payments  UPI,,,,,,,,,,,,,,UPI,q,,,,,,,,,ybl,Paytm,Payments\n",
              "4                         REF:017092635989/802484142006/                                                REF\n",
              "...                                                  ...                                                ...\n",
              "93900      NEFT-N927852783428571-GPPF/INTEREST-AXIS BANK      NEFT,N,,,,,,,,,,,,,,,,GPPF,INTEREST,AXIS,BANK\n",
              "93901      NEFT-N175592009501463-UZVE/INTEREST-AXIS BANK      NEFT,N,,,,,,,,,,,,,,,,UZVE,INTEREST,AXIS,BANK\n",
              "93902            NEFT-N035911158572785-KEMR/INTEREST-SBI            NEFT,N,,,,,,,,,,,,,,,,KEMR,INTEREST,SBI\n",
              "93903      NEFT-N366302381620227-KYJQ/INTEREST-AXIS BANK      NEFT,N,,,,,,,,,,,,,,,,KYJQ,INTEREST,AXIS,BANK\n",
              "93904      NEFT-N465386213175441-KUWN/INTEREST-HDFC BANK      NEFT,N,,,,,,,,,,,,,,,,KUWN,INTEREST,HDFC,BANK\n",
              "\n",
              "[93905 rows x 2 columns]"
            ]
          },
          "metadata": {
            "tags": []
          },
          "execution_count": 93
        }
      ]
    },
    {
      "cell_type": "code",
      "metadata": {
        "id": "AN3vrnPPZ-j6"
      },
      "source": [
        "# this function will replace continous string of comma with single comma\r\n",
        "def delete_comma(char,s):\r\n",
        "    while char*2 in s:\r\n",
        "        s=s.replace(char*2,char)\r\n",
        "    return s"
      ],
      "execution_count": 94,
      "outputs": []
    },
    {
      "cell_type": "code",
      "metadata": {
        "colab": {
          "base_uri": "https://localhost:8080/",
          "height": 419
        },
        "id": "a4hFwLHjaEd-",
        "outputId": "b9ae1206-9ee9-4657-bed9-0f2a2f5dba09"
      },
      "source": [
        "for i in range(len(df['words'])):\r\n",
        "  df['words'][i] = delete_comma(',',df['words'][i])\r\n",
        "\r\n",
        "df[['t_desc','words']]"
      ],
      "execution_count": 95,
      "outputs": [
        {
          "output_type": "execute_result",
          "data": {
            "text/html": [
              "<div>\n",
              "<style scoped>\n",
              "    .dataframe tbody tr th:only-of-type {\n",
              "        vertical-align: middle;\n",
              "    }\n",
              "\n",
              "    .dataframe tbody tr th {\n",
              "        vertical-align: top;\n",
              "    }\n",
              "\n",
              "    .dataframe thead th {\n",
              "        text-align: right;\n",
              "    }\n",
              "</style>\n",
              "<table border=\"1\" class=\"dataframe\">\n",
              "  <thead>\n",
              "    <tr style=\"text-align: right;\">\n",
              "      <th></th>\n",
              "      <th>t_desc</th>\n",
              "      <th>words</th>\n",
              "    </tr>\n",
              "  </thead>\n",
              "  <tbody>\n",
              "    <tr>\n",
              "      <th>0</th>\n",
              "      <td>VIN/AMAZONINTE/948051154875/596608348875/</td>\n",
              "      <td>VIN,AMAZONINTE</td>\n",
              "    </tr>\n",
              "    <tr>\n",
              "      <th>1</th>\n",
              "      <td>REF:302426291684/157724298548/</td>\n",
              "      <td>REF</td>\n",
              "    </tr>\n",
              "    <tr>\n",
              "      <th>2</th>\n",
              "      <td>UPI/032332076657/UPI/q46004458@ybl/Paytm Payments</td>\n",
              "      <td>UPI,UPI,q,ybl,Paytm,Payments</td>\n",
              "    </tr>\n",
              "    <tr>\n",
              "      <th>3</th>\n",
              "      <td>UPI/117871255695/UPI/q50205117@ybl/Paytm Payments</td>\n",
              "      <td>UPI,UPI,q,ybl,Paytm,Payments</td>\n",
              "    </tr>\n",
              "    <tr>\n",
              "      <th>4</th>\n",
              "      <td>REF:017092635989/802484142006/</td>\n",
              "      <td>REF</td>\n",
              "    </tr>\n",
              "    <tr>\n",
              "      <th>...</th>\n",
              "      <td>...</td>\n",
              "      <td>...</td>\n",
              "    </tr>\n",
              "    <tr>\n",
              "      <th>93900</th>\n",
              "      <td>NEFT-N927852783428571-GPPF/INTEREST-AXIS BANK</td>\n",
              "      <td>NEFT,N,GPPF,INTEREST,AXIS,BANK</td>\n",
              "    </tr>\n",
              "    <tr>\n",
              "      <th>93901</th>\n",
              "      <td>NEFT-N175592009501463-UZVE/INTEREST-AXIS BANK</td>\n",
              "      <td>NEFT,N,UZVE,INTEREST,AXIS,BANK</td>\n",
              "    </tr>\n",
              "    <tr>\n",
              "      <th>93902</th>\n",
              "      <td>NEFT-N035911158572785-KEMR/INTEREST-SBI</td>\n",
              "      <td>NEFT,N,KEMR,INTEREST,SBI</td>\n",
              "    </tr>\n",
              "    <tr>\n",
              "      <th>93903</th>\n",
              "      <td>NEFT-N366302381620227-KYJQ/INTEREST-AXIS BANK</td>\n",
              "      <td>NEFT,N,KYJQ,INTEREST,AXIS,BANK</td>\n",
              "    </tr>\n",
              "    <tr>\n",
              "      <th>93904</th>\n",
              "      <td>NEFT-N465386213175441-KUWN/INTEREST-HDFC BANK</td>\n",
              "      <td>NEFT,N,KUWN,INTEREST,HDFC,BANK</td>\n",
              "    </tr>\n",
              "  </tbody>\n",
              "</table>\n",
              "<p>93905 rows × 2 columns</p>\n",
              "</div>"
            ],
            "text/plain": [
              "                                                  t_desc                           words\n",
              "0              VIN/AMAZONINTE/948051154875/596608348875/                  VIN,AMAZONINTE\n",
              "1                         REF:302426291684/157724298548/                             REF\n",
              "2      UPI/032332076657/UPI/q46004458@ybl/Paytm Payments    UPI,UPI,q,ybl,Paytm,Payments\n",
              "3      UPI/117871255695/UPI/q50205117@ybl/Paytm Payments    UPI,UPI,q,ybl,Paytm,Payments\n",
              "4                         REF:017092635989/802484142006/                             REF\n",
              "...                                                  ...                             ...\n",
              "93900      NEFT-N927852783428571-GPPF/INTEREST-AXIS BANK  NEFT,N,GPPF,INTEREST,AXIS,BANK\n",
              "93901      NEFT-N175592009501463-UZVE/INTEREST-AXIS BANK  NEFT,N,UZVE,INTEREST,AXIS,BANK\n",
              "93902            NEFT-N035911158572785-KEMR/INTEREST-SBI        NEFT,N,KEMR,INTEREST,SBI\n",
              "93903      NEFT-N366302381620227-KYJQ/INTEREST-AXIS BANK  NEFT,N,KYJQ,INTEREST,AXIS,BANK\n",
              "93904      NEFT-N465386213175441-KUWN/INTEREST-HDFC BANK  NEFT,N,KUWN,INTEREST,HDFC,BANK\n",
              "\n",
              "[93905 rows x 2 columns]"
            ]
          },
          "metadata": {
            "tags": []
          },
          "execution_count": 95
        }
      ]
    },
    {
      "cell_type": "code",
      "metadata": {
        "colab": {
          "base_uri": "https://localhost:8080/"
        },
        "id": "PuO0OROzbAWu",
        "outputId": "b1a12dfa-807f-4731-9e25-0b4961b1cb76"
      },
      "source": [
        "# extracting all type of words\r\n",
        "ls = ''\r\n",
        "for i in range(len(df['words'])):\r\n",
        "  ls += df['words'][i]\r\n",
        "\r\n",
        "wl = ls.split(sep=',')\r\n",
        "wl[:10]"
      ],
      "execution_count": 96,
      "outputs": [
        {
          "output_type": "execute_result",
          "data": {
            "text/plain": [
              "['VIN',\n",
              " 'AMAZONINTEREFUPI',\n",
              " 'UPI',\n",
              " 'q',\n",
              " 'ybl',\n",
              " 'Paytm',\n",
              " 'PaymentsUPI',\n",
              " 'UPI',\n",
              " 'q',\n",
              " 'ybl']"
            ]
          },
          "metadata": {
            "tags": []
          },
          "execution_count": 96
        }
      ]
    },
    {
      "cell_type": "code",
      "metadata": {
        "colab": {
          "base_uri": "https://localhost:8080/"
        },
        "id": "jn0VxkvobTRW",
        "outputId": "29d99cf4-d796-4faf-9b5e-0e1e4dc1904f"
      },
      "source": [
        "cc = Counter(wl)\r\n",
        "most_occur = cc.most_common(100) # selecting top 100 most occuring words\r\n",
        "print(most_occur)"
      ],
      "execution_count": 97,
      "outputs": [
        {
          "output_type": "stream",
          "text": [
            "[('N', 23867), ('INTEREST', 18141), ('Paytm', 11577), ('BANKNEFT', 7659), ('HDFC', 6731), ('AXIS', 6665), ('NA', 5904), ('AMZN', 5904), ('Indian', 5904), ('UPI', 5805), ('q', 5805), ('ybl', 5805), ('I', 5781), ('Debit', 5781), ('UPIpaytmqr', 5772), ('Oid', 5748), ('add', 5748), ('money', 5748), ('paytm', 5748), ('PaymentsUPI', 4159), ('PNBNEFT', 3853), ('SBINEFT', 3753), ('ICICINEFT', 3733), ('OverseasUPI', 2137), ('PayTMUPI', 2087), ('PaytmPaymentsUPI', 2050), ('AMAZONINTEUPI', 1981), ('PENSION', 1947), ('PaymentsTRANSFER', 1760), ('BANKUPI', 1548), ('BANKTRANSFER', 1537), ('PaymentsIIN', 1038), ('PaymentsNEFT', 1036), ('GOVT', 1013), ('RETIREMENT', 1013), ('SCHEME', 1013), ('LIC', 1007), ('FUND', 981), ('PaymentsVIN', 974), ('PayTMTRANSFER', 912), ('AMAZONINTETRANSFER', 881), ('PaytmPaymentsTRANSFER', 877), ('OverseasTRANSFER', 840), ('ICICIUPI', 769), ('SBIUPI', 767), ('SBITRANSFER', 731), ('ICICITRANSFER', 724), ('PNBTRANSFER', 721), ('PNBUPI', 714), ('OverseasIIN', 561), ('AMAZONINTENEFT', 545), ('OverseasVIN', 545), ('PaytmPaymentsIIN', 525), ('PayTMNEFT', 522), ('OverseasNEFT', 519), ('PayTMVIN', 511), ('PayTMIIN', 506), ('PaytmPaymentsVIN', 502), ('PaytmPaymentsNEFT', 498), ('AMAZONINTEIIN', 489), ('PaymentsREFUPI', 462), ('AMAZONINTEVIN', 457), ('BANKREFTRANSFER', 444), ('PaymentsREFTRANSFER', 409), ('BANKIIN', 391), ('BANKVIN', 375), ('BANKREFUPI', 369), ('FUNDUPI', 292), ('SCHEMEUPI', 264), ('PayTMREFUPI', 238), ('AMAZONINTEREFUPI', 218), ('PaytmPaymentsREFUPI', 217), ('PNBREFTRANSFER', 217), ('OverseasREFUPI', 217), ('AMAZONINTEREFTRANSFER', 214), ('OverseasREFTRANSFER', 205), ('SBIREFTRANSFER', 201), ('ICICIREFTRANSFER', 200), ('SCHEMETRANSFER', 197), ('PaytmPaymentsREFTRANSFER', 190), ('PayTMREFTRANSFER', 187), ('SBIVIN', 181), ('SBIIIN', 181), ('ICICIREFUPI', 176), ('SBIREFUPI', 176), ('PNBREFUPI', 175), ('ICICIIIN', 173), ('PaymentsREF', 173), ('PNBIIN', 171), ('PNBVIN', 170), ('FUNDTRANSFER', 160), ('ICICIVIN', 156), ('PaymentsSBI', 150), ('PaymentsINSURANCE', 145), ('PaymentsLIC', 144), ('BANKEMI', 134), ('PaymentsREFIIN', 125), ('PaymentsSTATE', 125), ('BANKREFREFTRANSFER', 124), ('BANKMANDATE', 122)]\n"
          ],
          "name": "stdout"
        }
      ]
    },
    {
      "cell_type": "code",
      "metadata": {
        "colab": {
          "base_uri": "https://localhost:8080/",
          "height": 640
        },
        "id": "BIg-SR8Hbcy9",
        "outputId": "198eaa27-2696-47a5-a80f-612436aa9b35"
      },
      "source": [
        "labels, ys = zip(*most_occur)\r\n",
        "xs = np.arange(len(labels)) \r\n",
        "width = 0.8\r\n",
        "\r\n",
        "plt.figure(figsize=(30,10))\r\n",
        "plt.bar(xs, ys, width, align='center')\r\n",
        "\r\n",
        "plt.xticks(rotation=90);\r\n",
        "plt.xticks(xs, labels);"
      ],
      "execution_count": 98,
      "outputs": [
        {
          "output_type": "display_data",
          "data": {
            "image/png": "[encoded data removed]",
            "text/plain": [
              "<Figure size 2160x720 with 1 Axes>"
            ]
          },
          "metadata": {
            "tags": [],
            "needs_background": "light"
          }
        }
      ]
    },
    {
      "cell_type": "markdown",
      "metadata": {
        "id": "a7Sw4N7H9Pl8"
      },
      "source": [
        "### Conclusion\r\n",
        "\r\n",
        "\r\n",
        "*   Most payments were done via paytm, upi, upi qr codes, paytm/amazon qr codes. It is safe to assume that most of these are groceries.\r\n",
        "*   Other common and obvious words are INTEREST, INSURANCE, LIC, EMI, MANDATE, FUND, RETIREMENT, SCHEME, PENSION, TRANSFER, REF, EMI and Bank Names."
      ]
    },
    {
      "cell_type": "code",
      "metadata": {
        "id": "p-wDrPpxbnJV",
        "colab": {
          "base_uri": "https://localhost:8080/",
          "height": 359
        },
        "outputId": "0036f26c-0c5d-4f66-cac7-7a16002b951c"
      },
      "source": [
        "# converting int dates into readable format\r\n",
        "for i in range(len(df['date'])):\r\n",
        "  df['date'][i] = str(pd.to_datetime(str(df['date'][i]), yearfirst=True))[:10]\r\n",
        "  df['value date'][i] = str(pd.to_datetime(str(df['value date'][i]), yearfirst=True))[:10]\r\n",
        "df[['date', 'value date']][:10]"
      ],
      "execution_count": 99,
      "outputs": [
        {
          "output_type": "execute_result",
          "data": {
            "text/html": [
              "<div>\n",
              "<style scoped>\n",
              "    .dataframe tbody tr th:only-of-type {\n",
              "        vertical-align: middle;\n",
              "    }\n",
              "\n",
              "    .dataframe tbody tr th {\n",
              "        vertical-align: top;\n",
              "    }\n",
              "\n",
              "    .dataframe thead th {\n",
              "        text-align: right;\n",
              "    }\n",
              "</style>\n",
              "<table border=\"1\" class=\"dataframe\">\n",
              "  <thead>\n",
              "    <tr style=\"text-align: right;\">\n",
              "      <th></th>\n",
              "      <th>date</th>\n",
              "      <th>value date</th>\n",
              "    </tr>\n",
              "  </thead>\n",
              "  <tbody>\n",
              "    <tr>\n",
              "      <th>0</th>\n",
              "      <td>2018-09-01</td>\n",
              "      <td>2018-09-01</td>\n",
              "    </tr>\n",
              "    <tr>\n",
              "      <th>1</th>\n",
              "      <td>2018-09-01</td>\n",
              "      <td>2018-09-01</td>\n",
              "    </tr>\n",
              "    <tr>\n",
              "      <th>2</th>\n",
              "      <td>2018-09-01</td>\n",
              "      <td>2018-09-01</td>\n",
              "    </tr>\n",
              "    <tr>\n",
              "      <th>3</th>\n",
              "      <td>2018-09-01</td>\n",
              "      <td>2018-09-01</td>\n",
              "    </tr>\n",
              "    <tr>\n",
              "      <th>4</th>\n",
              "      <td>2018-09-01</td>\n",
              "      <td>2018-09-01</td>\n",
              "    </tr>\n",
              "    <tr>\n",
              "      <th>5</th>\n",
              "      <td>2018-09-01</td>\n",
              "      <td>2018-09-01</td>\n",
              "    </tr>\n",
              "    <tr>\n",
              "      <th>6</th>\n",
              "      <td>2018-09-01</td>\n",
              "      <td>2018-09-01</td>\n",
              "    </tr>\n",
              "    <tr>\n",
              "      <th>7</th>\n",
              "      <td>2018-09-01</td>\n",
              "      <td>2018-09-01</td>\n",
              "    </tr>\n",
              "    <tr>\n",
              "      <th>8</th>\n",
              "      <td>2018-09-01</td>\n",
              "      <td>2018-09-01</td>\n",
              "    </tr>\n",
              "    <tr>\n",
              "      <th>9</th>\n",
              "      <td>2018-09-01</td>\n",
              "      <td>2018-09-01</td>\n",
              "    </tr>\n",
              "  </tbody>\n",
              "</table>\n",
              "</div>"
            ],
            "text/plain": [
              "         date  value date\n",
              "0  2018-09-01  2018-09-01\n",
              "1  2018-09-01  2018-09-01\n",
              "2  2018-09-01  2018-09-01\n",
              "3  2018-09-01  2018-09-01\n",
              "4  2018-09-01  2018-09-01\n",
              "5  2018-09-01  2018-09-01\n",
              "6  2018-09-01  2018-09-01\n",
              "7  2018-09-01  2018-09-01\n",
              "8  2018-09-01  2018-09-01\n",
              "9  2018-09-01  2018-09-01"
            ]
          },
          "metadata": {
            "tags": []
          },
          "execution_count": 99
        }
      ]
    },
    {
      "cell_type": "code",
      "metadata": {
        "id": "zDG6-1s4eS6M",
        "colab": {
          "base_uri": "https://localhost:8080/"
        },
        "outputId": "7bebf3b9-2cf0-43a5-ed8c-edf6dc156432"
      },
      "source": [
        "df['label'] = ''\r\n",
        "\r\n",
        "keywords = [['IIN','VIN','Oid','UPIpaytmqr','ybl','AMZN'],\r\n",
        "            ['INTEREST'],\r\n",
        "            ['INSURANCE','LIC'],\r\n",
        "            ['EMI','MANDATE'],\r\n",
        "            ['FUND','RETIREMENT']]\r\n",
        "# Labelling the obvious reoccuring keywords\r\n",
        "for i in range(len(keywords)):\r\n",
        "  for kw in keywords[i]:\r\n",
        "    for n in range(len(df)):\r\n",
        "\r\n",
        "      if (kw in df['words'][n]) and (i==0):\r\n",
        "        df['label'][n] = 'grocery'\r\n",
        "\r\n",
        "      elif (kw in df['words'][n]) and (i==1):\r\n",
        "        df['label'][n] = 'interest'\r\n",
        "\r\n",
        "      elif (kw in df['words'][n]) and (i==2):\r\n",
        "        df['label'][n] = 'insurance'\r\n",
        "      \r\n",
        "      elif (kw in df['words'][n]) and (i==3):\r\n",
        "        df['label'][n] = 'loan_payment'\r\n",
        "\r\n",
        "      elif (kw in df['words'][n]) and (i==4):\r\n",
        "        df['label'][n] = 'pension'\r\n",
        "\r\n",
        "df['label'].replace('', 'personal', inplace=True)\r\n",
        "print(df.pivot_table(index=['label'], aggfunc='size'))"
      ],
      "execution_count": 100,
      "outputs": [
        {
          "output_type": "stream",
          "text": [
            "label\n",
            "grocery         34616\n",
            "insurance        2022\n",
            "interest        18133\n",
            "loan_payment     1784\n",
            "pension          2960\n",
            "personal        34390\n",
            "dtype: int64\n"
          ],
          "name": "stdout"
        }
      ]
    },
    {
      "cell_type": "markdown",
      "metadata": {
        "id": "Yc03fMFz-jQa"
      },
      "source": [
        "### Conclusion\r\n",
        "\r\n",
        "\r\n",
        "*   Most transactions were groceries and personal. Least transactions were loan payments.\r\n",
        "*   Transactions of Interest were much greater than that of loan payments.\r\n",
        "(This might be because usually one family member is paying loan, but multiple family members are getting interests of FD, RD etc. to save taxes.)\r\n",
        "\r\n"
      ]
    },
    {
      "cell_type": "code",
      "metadata": {
        "id": "TjISO_Tjg8KY",
        "colab": {
          "base_uri": "https://localhost:8080/",
          "height": 419
        },
        "outputId": "5a79ab23-eac7-405c-9d24-339620b78de9"
      },
      "source": [
        "# the sum column will add the counter of most occuring words together, \r\n",
        "# this will make it trainable for our model\r\n",
        "df['sum'] = 0\r\n",
        "for i in range(len(df)):\r\n",
        "  s = 0\r\n",
        "  for mo,n in most_occur:\r\n",
        "    if mo in df['words'][i]:\r\n",
        "      s += n\r\n",
        "  df['sum'][i] = s\r\n",
        "\r\n",
        "df"
      ],
      "execution_count": 101,
      "outputs": [
        {
          "output_type": "execute_result",
          "data": {
            "text/html": [
              "<div>\n",
              "<style scoped>\n",
              "    .dataframe tbody tr th:only-of-type {\n",
              "        vertical-align: middle;\n",
              "    }\n",
              "\n",
              "    .dataframe tbody tr th {\n",
              "        vertical-align: top;\n",
              "    }\n",
              "\n",
              "    .dataframe thead th {\n",
              "        text-align: right;\n",
              "    }\n",
              "</style>\n",
              "<table border=\"1\" class=\"dataframe\">\n",
              "  <thead>\n",
              "    <tr style=\"text-align: right;\">\n",
              "      <th></th>\n",
              "      <th>trans_id</th>\n",
              "      <th>date</th>\n",
              "      <th>value date</th>\n",
              "      <th>deposit</th>\n",
              "      <th>wdrawl</th>\n",
              "      <th>balance</th>\n",
              "      <th>t_desc</th>\n",
              "      <th>words</th>\n",
              "      <th>label</th>\n",
              "      <th>sum</th>\n",
              "    </tr>\n",
              "  </thead>\n",
              "  <tbody>\n",
              "    <tr>\n",
              "      <th>0</th>\n",
              "      <td>2009227</td>\n",
              "      <td>2018-09-01</td>\n",
              "      <td>2018-09-01</td>\n",
              "      <td>1800.0</td>\n",
              "      <td>0.0</td>\n",
              "      <td>36793.0</td>\n",
              "      <td>VIN/AMAZONINTE/948051154875/596608348875/</td>\n",
              "      <td>VIN,AMAZONINTE</td>\n",
              "      <td>grocery</td>\n",
              "      <td>29648</td>\n",
              "    </tr>\n",
              "    <tr>\n",
              "      <th>1</th>\n",
              "      <td>346565</td>\n",
              "      <td>2018-09-01</td>\n",
              "      <td>2018-09-01</td>\n",
              "      <td>0.0</td>\n",
              "      <td>17800.0</td>\n",
              "      <td>57538.3</td>\n",
              "      <td>REF:302426291684/157724298548/</td>\n",
              "      <td>REF</td>\n",
              "      <td>personal</td>\n",
              "      <td>0</td>\n",
              "    </tr>\n",
              "    <tr>\n",
              "      <th>2</th>\n",
              "      <td>863051</td>\n",
              "      <td>2018-09-01</td>\n",
              "      <td>2018-09-01</td>\n",
              "      <td>0.0</td>\n",
              "      <td>13200.0</td>\n",
              "      <td>31341.5</td>\n",
              "      <td>UPI/032332076657/UPI/q46004458@ybl/Paytm Payments</td>\n",
              "      <td>UPI,UPI,q,ybl,Paytm,Payments</td>\n",
              "      <td>grocery</td>\n",
              "      <td>34773</td>\n",
              "    </tr>\n",
              "    <tr>\n",
              "      <th>3</th>\n",
              "      <td>967352</td>\n",
              "      <td>2018-09-01</td>\n",
              "      <td>2018-09-01</td>\n",
              "      <td>0.0</td>\n",
              "      <td>16171.0</td>\n",
              "      <td>78761.9</td>\n",
              "      <td>UPI/117871255695/UPI/q50205117@ybl/Paytm Payments</td>\n",
              "      <td>UPI,UPI,q,ybl,Paytm,Payments</td>\n",
              "      <td>grocery</td>\n",
              "      <td>34773</td>\n",
              "    </tr>\n",
              "    <tr>\n",
              "      <th>4</th>\n",
              "      <td>967471</td>\n",
              "      <td>2018-09-01</td>\n",
              "      <td>2018-09-01</td>\n",
              "      <td>0.0</td>\n",
              "      <td>20200.0</td>\n",
              "      <td>58561.9</td>\n",
              "      <td>REF:017092635989/802484142006/</td>\n",
              "      <td>REF</td>\n",
              "      <td>personal</td>\n",
              "      <td>0</td>\n",
              "    </tr>\n",
              "    <tr>\n",
              "      <th>...</th>\n",
              "      <td>...</td>\n",
              "      <td>...</td>\n",
              "      <td>...</td>\n",
              "      <td>...</td>\n",
              "      <td>...</td>\n",
              "      <td>...</td>\n",
              "      <td>...</td>\n",
              "      <td>...</td>\n",
              "      <td>...</td>\n",
              "      <td>...</td>\n",
              "    </tr>\n",
              "    <tr>\n",
              "      <th>93900</th>\n",
              "      <td>3626622</td>\n",
              "      <td>2018-12-31</td>\n",
              "      <td>2018-12-31</td>\n",
              "      <td>62.3</td>\n",
              "      <td>0.0</td>\n",
              "      <td>13729.4</td>\n",
              "      <td>NEFT-N927852783428571-GPPF/INTEREST-AXIS BANK</td>\n",
              "      <td>NEFT,N,GPPF,INTEREST,AXIS,BANK</td>\n",
              "      <td>interest</td>\n",
              "      <td>54454</td>\n",
              "    </tr>\n",
              "    <tr>\n",
              "      <th>93901</th>\n",
              "      <td>3627616</td>\n",
              "      <td>2018-12-31</td>\n",
              "      <td>2018-12-31</td>\n",
              "      <td>81.3</td>\n",
              "      <td>0.0</td>\n",
              "      <td>19544.9</td>\n",
              "      <td>NEFT-N175592009501463-UZVE/INTEREST-AXIS BANK</td>\n",
              "      <td>NEFT,N,UZVE,INTEREST,AXIS,BANK</td>\n",
              "      <td>interest</td>\n",
              "      <td>54454</td>\n",
              "    </tr>\n",
              "    <tr>\n",
              "      <th>93902</th>\n",
              "      <td>3625403</td>\n",
              "      <td>2018-12-31</td>\n",
              "      <td>2018-12-31</td>\n",
              "      <td>60.2</td>\n",
              "      <td>0.0</td>\n",
              "      <td>14638.2</td>\n",
              "      <td>NEFT-N035911158572785-KEMR/INTEREST-SBI</td>\n",
              "      <td>NEFT,N,KEMR,INTEREST,SBI</td>\n",
              "      <td>interest</td>\n",
              "      <td>47789</td>\n",
              "    </tr>\n",
              "    <tr>\n",
              "      <th>93903</th>\n",
              "      <td>3626683</td>\n",
              "      <td>2018-12-31</td>\n",
              "      <td>2018-12-31</td>\n",
              "      <td>107.5</td>\n",
              "      <td>0.0</td>\n",
              "      <td>23453.0</td>\n",
              "      <td>NEFT-N366302381620227-KYJQ/INTEREST-AXIS BANK</td>\n",
              "      <td>NEFT,N,KYJQ,INTEREST,AXIS,BANK</td>\n",
              "      <td>interest</td>\n",
              "      <td>54454</td>\n",
              "    </tr>\n",
              "    <tr>\n",
              "      <th>93904</th>\n",
              "      <td>3626540</td>\n",
              "      <td>2018-12-31</td>\n",
              "      <td>2018-12-31</td>\n",
              "      <td>164.1</td>\n",
              "      <td>0.0</td>\n",
              "      <td>41642.9</td>\n",
              "      <td>NEFT-N465386213175441-KUWN/INTEREST-HDFC BANK</td>\n",
              "      <td>NEFT,N,KUWN,INTEREST,HDFC,BANK</td>\n",
              "      <td>interest</td>\n",
              "      <td>54520</td>\n",
              "    </tr>\n",
              "  </tbody>\n",
              "</table>\n",
              "<p>93905 rows × 10 columns</p>\n",
              "</div>"
            ],
            "text/plain": [
              "       trans_id        date  ...     label    sum\n",
              "0       2009227  2018-09-01  ...   grocery  29648\n",
              "1        346565  2018-09-01  ...  personal      0\n",
              "2        863051  2018-09-01  ...   grocery  34773\n",
              "3        967352  2018-09-01  ...   grocery  34773\n",
              "4        967471  2018-09-01  ...  personal      0\n",
              "...         ...         ...  ...       ...    ...\n",
              "93900   3626622  2018-12-31  ...  interest  54454\n",
              "93901   3627616  2018-12-31  ...  interest  54454\n",
              "93902   3625403  2018-12-31  ...  interest  47789\n",
              "93903   3626683  2018-12-31  ...  interest  54454\n",
              "93904   3626540  2018-12-31  ...  interest  54520\n",
              "\n",
              "[93905 rows x 10 columns]"
            ]
          },
          "metadata": {
            "tags": []
          },
          "execution_count": 101
        }
      ]
    },
    {
      "cell_type": "markdown",
      "metadata": {
        "id": "2zqzbOCe_xY6"
      },
      "source": [
        "### Conclusion\r\n",
        "Notice how transactions labelled 'interest' have sum value around 50k, but groceries have around 30k. This is numerical categorization of 'words' column"
      ]
    },
    {
      "cell_type": "code",
      "metadata": {
        "id": "icrxCOqXh30u",
        "colab": {
          "base_uri": "https://localhost:8080/",
          "height": 729
        },
        "outputId": "fb896a32-7559-4b06-9572-4511bd92e6be"
      },
      "source": [
        "x,y = [0]*len(df),[0]*len(df)\r\n",
        "x[0] = df['date'].loc[(df['label'] == 'grocery')]\r\n",
        "y[0] = df['wdrawl'].loc[(df['label'] == 'grocery')]\r\n",
        "\r\n",
        "x[1] = df['date'].loc[(df['label'] == 'interest')]\r\n",
        "y[1] = df['deposit'].loc[(df['label'] == 'interest')]\r\n",
        "\r\n",
        "\r\n",
        "fig, ax = plt.subplots(2, figsize=(20, 10))\r\n",
        "plt.xticks(rotation=90)\r\n",
        "ax[0].scatter(x[0], y[0])\r\n",
        "ax[1].scatter(x[1], y[1])\r\n",
        "for ax in fig.axes:\r\n",
        "    ax.tick_params(labelrotation=90)\r\n",
        "\r\n",
        "plt.tight_layout()\r\n",
        "plt.show()"
      ],
      "execution_count": 102,
      "outputs": [
        {
          "output_type": "display_data",
          "data": {
            "image/png": "[encoded data removed]",
            "text/plain": [
              "<Figure size 1440x720 with 2 Axes>"
            ]
          },
          "metadata": {
            "tags": [],
            "needs_background": "light"
          }
        }
      ]
    },
    {
      "cell_type": "markdown",
      "metadata": {
        "id": "gL5hWkJwAY1c"
      },
      "source": [
        "### Conclusion\r\n",
        "* Most transaction labelled grocery were under 3k.\r\n",
        "* Very few transactions labelled grocery were around 7k.\r\n",
        "* All interest transaction happened at the end of month.\r\n",
        "\r\n",
        "This visualization proves that the labellings are done properly with minimal errors."
      ]
    },
    {
      "cell_type": "code",
      "metadata": {
        "id": "RnxWkrtXlU3M",
        "colab": {
          "base_uri": "https://localhost:8080/"
        },
        "outputId": "f2022a4c-734d-4038-f19b-9436a45fbd59"
      },
      "source": [
        "dff = df[['date', 'deposit', 'wdrawl', 'balance', 'sum', 'label']].copy()\r\n",
        "dff.dtypes\r\n",
        "# df is our original dataframe.\r\n",
        "# dff is our dataframe preparing for training."
      ],
      "execution_count": 103,
      "outputs": [
        {
          "output_type": "execute_result",
          "data": {
            "text/plain": [
              "date        object\n",
              "deposit    float64\n",
              "wdrawl     float64\n",
              "balance    float64\n",
              "sum          int64\n",
              "label       object\n",
              "dtype: object"
            ]
          },
          "metadata": {
            "tags": []
          },
          "execution_count": 103
        }
      ]
    },
    {
      "cell_type": "code",
      "metadata": {
        "id": "7HfYaN3JpOKO"
      },
      "source": [
        "# this function will convert labelling of our data into numbers to make it trainable\r\n",
        "def label_to_int(label, i):\r\n",
        "  if label[i] == 'personal':\r\n",
        "    label[i] = 0\r\n",
        "  \r\n",
        "  elif label[i] == 'grocery':\r\n",
        "    label[i] = 1\r\n",
        "\r\n",
        "  elif label[i] == 'interest':\r\n",
        "    label[i] = 2\r\n",
        "\r\n",
        "  elif label[i] == 'loan_payment':\r\n",
        "    label[i] = 3\r\n",
        "\r\n",
        "  elif label[i] == 'pension':\r\n",
        "    label[i] = 4\r\n",
        "\r\n",
        "  elif label[i] == 'insurance':\r\n",
        "    label[i] = 5"
      ],
      "execution_count": 104,
      "outputs": []
    },
    {
      "cell_type": "code",
      "metadata": {
        "id": "zecml-CgmD6Q"
      },
      "source": [
        "for i in range(len(dff)):\r\n",
        "  label_to_int(dff['label'],i)\r\n",
        "\r\n",
        "  dff['date'][i] = dff['date'][i].replace('-', '')[4:] #converting dates back to int to prepare them for training"
      ],
      "execution_count": 105,
      "outputs": []
    },
    {
      "cell_type": "code",
      "metadata": {
        "id": "0BZBG73vnJjA",
        "colab": {
          "base_uri": "https://localhost:8080/"
        },
        "outputId": "d7beb810-c0ff-484e-fe16-0adfa0755a8e"
      },
      "source": [
        "dff['date'] = pd.to_numeric(dff['date'])\r\n",
        "dff.pop('label')\r\n",
        "dff.dtypes"
      ],
      "execution_count": 106,
      "outputs": [
        {
          "output_type": "execute_result",
          "data": {
            "text/plain": [
              "date         int64\n",
              "deposit    float64\n",
              "wdrawl     float64\n",
              "balance    float64\n",
              "sum          int64\n",
              "dtype: object"
            ]
          },
          "metadata": {
            "tags": []
          },
          "execution_count": 106
        }
      ]
    },
    {
      "cell_type": "code",
      "metadata": {
        "id": "9gLG-c5VncIl",
        "colab": {
          "base_uri": "https://localhost:8080/",
          "height": 419
        },
        "outputId": "d97d3ddc-feb5-4ecb-e680-1db62cfb3f39"
      },
      "source": [
        "# normalizing our data\r\n",
        "predictor_vars = dff.columns\r\n",
        "\r\n",
        "for col in predictor_vars:\r\n",
        "    col_mean = dff[col].mean()\r\n",
        "    col_std = dff[col].std()\r\n",
        "    if col_std == 0:\r\n",
        "        col_std = 1e-5\r\n",
        "    dff[col] = (dff[col] - col_mean) / col_std\r\n",
        "\r\n",
        "dff"
      ],
      "execution_count": 107,
      "outputs": [
        {
          "output_type": "execute_result",
          "data": {
            "text/html": [
              "<div>\n",
              "<style scoped>\n",
              "    .dataframe tbody tr th:only-of-type {\n",
              "        vertical-align: middle;\n",
              "    }\n",
              "\n",
              "    .dataframe tbody tr th {\n",
              "        vertical-align: top;\n",
              "    }\n",
              "\n",
              "    .dataframe thead th {\n",
              "        text-align: right;\n",
              "    }\n",
              "</style>\n",
              "<table border=\"1\" class=\"dataframe\">\n",
              "  <thead>\n",
              "    <tr style=\"text-align: right;\">\n",
              "      <th></th>\n",
              "      <th>date</th>\n",
              "      <th>deposit</th>\n",
              "      <th>wdrawl</th>\n",
              "      <th>balance</th>\n",
              "      <th>sum</th>\n",
              "    </tr>\n",
              "  </thead>\n",
              "  <tbody>\n",
              "    <tr>\n",
              "      <th>0</th>\n",
              "      <td>-1.490050</td>\n",
              "      <td>-0.185768</td>\n",
              "      <td>-0.449374</td>\n",
              "      <td>-0.281779</td>\n",
              "      <td>-0.179433</td>\n",
              "    </tr>\n",
              "    <tr>\n",
              "      <th>1</th>\n",
              "      <td>-1.490050</td>\n",
              "      <td>-0.388632</td>\n",
              "      <td>2.188881</td>\n",
              "      <td>0.522861</td>\n",
              "      <td>-1.936738</td>\n",
              "    </tr>\n",
              "    <tr>\n",
              "      <th>2</th>\n",
              "      <td>-1.490050</td>\n",
              "      <td>-0.388632</td>\n",
              "      <td>1.507085</td>\n",
              "      <td>-0.493224</td>\n",
              "      <td>0.124338</td>\n",
              "    </tr>\n",
              "    <tr>\n",
              "      <th>3</th>\n",
              "      <td>-1.490050</td>\n",
              "      <td>-0.388632</td>\n",
              "      <td>1.947436</td>\n",
              "      <td>1.346053</td>\n",
              "      <td>0.124338</td>\n",
              "    </tr>\n",
              "    <tr>\n",
              "      <th>4</th>\n",
              "      <td>-1.490050</td>\n",
              "      <td>-0.388632</td>\n",
              "      <td>2.544601</td>\n",
              "      <td>0.562563</td>\n",
              "      <td>-1.936738</td>\n",
              "    </tr>\n",
              "    <tr>\n",
              "      <th>...</th>\n",
              "      <td>...</td>\n",
              "      <td>...</td>\n",
              "      <td>...</td>\n",
              "      <td>...</td>\n",
              "      <td>...</td>\n",
              "    </tr>\n",
              "    <tr>\n",
              "      <th>93900</th>\n",
              "      <td>1.503512</td>\n",
              "      <td>-0.381611</td>\n",
              "      <td>-0.449374</td>\n",
              "      <td>-1.176338</td>\n",
              "      <td>1.290876</td>\n",
              "    </tr>\n",
              "    <tr>\n",
              "      <th>93901</th>\n",
              "      <td>1.503512</td>\n",
              "      <td>-0.379470</td>\n",
              "      <td>-0.449374</td>\n",
              "      <td>-0.950775</td>\n",
              "      <td>1.290876</td>\n",
              "    </tr>\n",
              "    <tr>\n",
              "      <th>93902</th>\n",
              "      <td>1.503512</td>\n",
              "      <td>-0.381848</td>\n",
              "      <td>-0.449374</td>\n",
              "      <td>-1.141089</td>\n",
              "      <td>0.895826</td>\n",
              "    </tr>\n",
              "    <tr>\n",
              "      <th>93903</th>\n",
              "      <td>1.503512</td>\n",
              "      <td>-0.376517</td>\n",
              "      <td>-0.449374</td>\n",
              "      <td>-0.799193</td>\n",
              "      <td>1.290876</td>\n",
              "    </tr>\n",
              "    <tr>\n",
              "      <th>93904</th>\n",
              "      <td>1.503512</td>\n",
              "      <td>-0.370138</td>\n",
              "      <td>-0.449374</td>\n",
              "      <td>-0.093668</td>\n",
              "      <td>1.294788</td>\n",
              "    </tr>\n",
              "  </tbody>\n",
              "</table>\n",
              "<p>93905 rows × 5 columns</p>\n",
              "</div>"
            ],
            "text/plain": [
              "           date   deposit    wdrawl   balance       sum\n",
              "0     -1.490050 -0.185768 -0.449374 -0.281779 -0.179433\n",
              "1     -1.490050 -0.388632  2.188881  0.522861 -1.936738\n",
              "2     -1.490050 -0.388632  1.507085 -0.493224  0.124338\n",
              "3     -1.490050 -0.388632  1.947436  1.346053  0.124338\n",
              "4     -1.490050 -0.388632  2.544601  0.562563 -1.936738\n",
              "...         ...       ...       ...       ...       ...\n",
              "93900  1.503512 -0.381611 -0.449374 -1.176338  1.290876\n",
              "93901  1.503512 -0.379470 -0.449374 -0.950775  1.290876\n",
              "93902  1.503512 -0.381848 -0.449374 -1.141089  0.895826\n",
              "93903  1.503512 -0.376517 -0.449374 -0.799193  1.290876\n",
              "93904  1.503512 -0.370138 -0.449374 -0.093668  1.294788\n",
              "\n",
              "[93905 rows x 5 columns]"
            ]
          },
          "metadata": {
            "tags": []
          },
          "execution_count": 107
        }
      ]
    },
    {
      "cell_type": "code",
      "metadata": {
        "id": "ua_cITUcosTb"
      },
      "source": [
        "import tensorflow as tf"
      ],
      "execution_count": 108,
      "outputs": []
    },
    {
      "cell_type": "code",
      "metadata": {
        "id": "MC42vE5OotOZ",
        "colab": {
          "base_uri": "https://localhost:8080/"
        },
        "outputId": "97809842-6de9-4e22-9b0a-9845064a83c7"
      },
      "source": [
        "target = df.pop('label')\r\n",
        "target"
      ],
      "execution_count": 109,
      "outputs": [
        {
          "output_type": "execute_result",
          "data": {
            "text/plain": [
              "0         grocery\n",
              "1        personal\n",
              "2         grocery\n",
              "3         grocery\n",
              "4        personal\n",
              "           ...   \n",
              "93900    interest\n",
              "93901    interest\n",
              "93902    interest\n",
              "93903    interest\n",
              "93904    interest\n",
              "Name: label, Length: 93905, dtype: object"
            ]
          },
          "metadata": {
            "tags": []
          },
          "execution_count": 109
        }
      ]
    },
    {
      "cell_type": "code",
      "metadata": {
        "id": "n1heV9LKqXEz",
        "colab": {
          "base_uri": "https://localhost:8080/"
        },
        "outputId": "7fd844da-d25d-48f9-85c0-84e0f7cf7e39"
      },
      "source": [
        "# converting target labels back to numbers\r\n",
        "for i in range(len(target)):\r\n",
        "  label_to_int(target,i)\r\n",
        "target = pd.to_numeric(target)\r\n",
        "target"
      ],
      "execution_count": 110,
      "outputs": [
        {
          "output_type": "execute_result",
          "data": {
            "text/plain": [
              "0        1\n",
              "1        0\n",
              "2        1\n",
              "3        1\n",
              "4        0\n",
              "        ..\n",
              "93900    2\n",
              "93901    2\n",
              "93902    2\n",
              "93903    2\n",
              "93904    2\n",
              "Name: label, Length: 93905, dtype: int64"
            ]
          },
          "metadata": {
            "tags": []
          },
          "execution_count": 110
        }
      ]
    },
    {
      "cell_type": "code",
      "metadata": {
        "id": "2PkR7P2RtnKM",
        "colab": {
          "base_uri": "https://localhost:8080/",
          "height": 419
        },
        "outputId": "5f87a7ee-a0f9-4425-d83a-d3744f633c19"
      },
      "source": [
        "dff"
      ],
      "execution_count": 111,
      "outputs": [
        {
          "output_type": "execute_result",
          "data": {
            "text/html": [
              "<div>\n",
              "<style scoped>\n",
              "    .dataframe tbody tr th:only-of-type {\n",
              "        vertical-align: middle;\n",
              "    }\n",
              "\n",
              "    .dataframe tbody tr th {\n",
              "        vertical-align: top;\n",
              "    }\n",
              "\n",
              "    .dataframe thead th {\n",
              "        text-align: right;\n",
              "    }\n",
              "</style>\n",
              "<table border=\"1\" class=\"dataframe\">\n",
              "  <thead>\n",
              "    <tr style=\"text-align: right;\">\n",
              "      <th></th>\n",
              "      <th>date</th>\n",
              "      <th>deposit</th>\n",
              "      <th>wdrawl</th>\n",
              "      <th>balance</th>\n",
              "      <th>sum</th>\n",
              "    </tr>\n",
              "  </thead>\n",
              "  <tbody>\n",
              "    <tr>\n",
              "      <th>0</th>\n",
              "      <td>-1.490050</td>\n",
              "      <td>-0.185768</td>\n",
              "      <td>-0.449374</td>\n",
              "      <td>-0.281779</td>\n",
              "      <td>-0.179433</td>\n",
              "    </tr>\n",
              "    <tr>\n",
              "      <th>1</th>\n",
              "      <td>-1.490050</td>\n",
              "      <td>-0.388632</td>\n",
              "      <td>2.188881</td>\n",
              "      <td>0.522861</td>\n",
              "      <td>-1.936738</td>\n",
              "    </tr>\n",
              "    <tr>\n",
              "      <th>2</th>\n",
              "      <td>-1.490050</td>\n",
              "      <td>-0.388632</td>\n",
              "      <td>1.507085</td>\n",
              "      <td>-0.493224</td>\n",
              "      <td>0.124338</td>\n",
              "    </tr>\n",
              "    <tr>\n",
              "      <th>3</th>\n",
              "      <td>-1.490050</td>\n",
              "      <td>-0.388632</td>\n",
              "      <td>1.947436</td>\n",
              "      <td>1.346053</td>\n",
              "      <td>0.124338</td>\n",
              "    </tr>\n",
              "    <tr>\n",
              "      <th>4</th>\n",
              "      <td>-1.490050</td>\n",
              "      <td>-0.388632</td>\n",
              "      <td>2.544601</td>\n",
              "      <td>0.562563</td>\n",
              "      <td>-1.936738</td>\n",
              "    </tr>\n",
              "    <tr>\n",
              "      <th>...</th>\n",
              "      <td>...</td>\n",
              "      <td>...</td>\n",
              "      <td>...</td>\n",
              "      <td>...</td>\n",
              "      <td>...</td>\n",
              "    </tr>\n",
              "    <tr>\n",
              "      <th>93900</th>\n",
              "      <td>1.503512</td>\n",
              "      <td>-0.381611</td>\n",
              "      <td>-0.449374</td>\n",
              "      <td>-1.176338</td>\n",
              "      <td>1.290876</td>\n",
              "    </tr>\n",
              "    <tr>\n",
              "      <th>93901</th>\n",
              "      <td>1.503512</td>\n",
              "      <td>-0.379470</td>\n",
              "      <td>-0.449374</td>\n",
              "      <td>-0.950775</td>\n",
              "      <td>1.290876</td>\n",
              "    </tr>\n",
              "    <tr>\n",
              "      <th>93902</th>\n",
              "      <td>1.503512</td>\n",
              "      <td>-0.381848</td>\n",
              "      <td>-0.449374</td>\n",
              "      <td>-1.141089</td>\n",
              "      <td>0.895826</td>\n",
              "    </tr>\n",
              "    <tr>\n",
              "      <th>93903</th>\n",
              "      <td>1.503512</td>\n",
              "      <td>-0.376517</td>\n",
              "      <td>-0.449374</td>\n",
              "      <td>-0.799193</td>\n",
              "      <td>1.290876</td>\n",
              "    </tr>\n",
              "    <tr>\n",
              "      <th>93904</th>\n",
              "      <td>1.503512</td>\n",
              "      <td>-0.370138</td>\n",
              "      <td>-0.449374</td>\n",
              "      <td>-0.093668</td>\n",
              "      <td>1.294788</td>\n",
              "    </tr>\n",
              "  </tbody>\n",
              "</table>\n",
              "<p>93905 rows × 5 columns</p>\n",
              "</div>"
            ],
            "text/plain": [
              "           date   deposit    wdrawl   balance       sum\n",
              "0     -1.490050 -0.185768 -0.449374 -0.281779 -0.179433\n",
              "1     -1.490050 -0.388632  2.188881  0.522861 -1.936738\n",
              "2     -1.490050 -0.388632  1.507085 -0.493224  0.124338\n",
              "3     -1.490050 -0.388632  1.947436  1.346053  0.124338\n",
              "4     -1.490050 -0.388632  2.544601  0.562563 -1.936738\n",
              "...         ...       ...       ...       ...       ...\n",
              "93900  1.503512 -0.381611 -0.449374 -1.176338  1.290876\n",
              "93901  1.503512 -0.379470 -0.449374 -0.950775  1.290876\n",
              "93902  1.503512 -0.381848 -0.449374 -1.141089  0.895826\n",
              "93903  1.503512 -0.376517 -0.449374 -0.799193  1.290876\n",
              "93904  1.503512 -0.370138 -0.449374 -0.093668  1.294788\n",
              "\n",
              "[93905 rows x 5 columns]"
            ]
          },
          "metadata": {
            "tags": []
          },
          "execution_count": 111
        }
      ]
    },
    {
      "cell_type": "code",
      "metadata": {
        "id": "BoUwj2NyuCDC"
      },
      "source": [
        "dff = np.asarray(dff).astype(np.float32)\r\n",
        "target = np.asarray(target).astype(np.float32)\r\n",
        "#converting data to float, to convert into tesnsor"
      ],
      "execution_count": 112,
      "outputs": []
    },
    {
      "cell_type": "code",
      "metadata": {
        "id": "pjMzbwLiqdVK",
        "colab": {
          "base_uri": "https://localhost:8080/"
        },
        "outputId": "4c2233f9-447d-42cc-ef43-ee95ca4d7949"
      },
      "source": [
        "train_dataset = tf.data.Dataset.from_tensor_slices((dff[:92000], target[:92000]))\r\n",
        "test_dataset = tf.data.Dataset.from_tensor_slices((dff[500:1000]))\r\n",
        "# random slice of test dataset\r\n",
        "\r\n",
        "train_dataset = train_dataset.batch(100)\r\n",
        "test_dataset = test_dataset.batch(1)\r\n",
        "\r\n",
        "print('len of train_dataset: {} & test_dataset: {}'.format(len(train_dataset), len(test_dataset)))"
      ],
      "execution_count": 113,
      "outputs": [
        {
          "output_type": "stream",
          "text": [
            "len of train_dataset: 920 & test_dataset: 500\n"
          ],
          "name": "stdout"
        }
      ]
    },
    {
      "cell_type": "code",
      "metadata": {
        "id": "FJ29OHKdvAUq"
      },
      "source": [
        "model = tf.keras.Sequential([\r\n",
        "  tf.keras.layers.Dense(32, activation='relu', input_shape=(92000,5)),\r\n",
        "  tf.keras.layers.Dense(16, activation='relu'),\r\n",
        "  tf.keras.layers.Dropout(0.2),\r\n",
        "  tf.keras.layers.Dense(8, activation='relu'),\r\n",
        "  tf.keras.layers.Dropout(0.2),\r\n",
        "  tf.keras.layers.Dense(6, activation='softmax')\r\n",
        "])\r\n",
        "# our model consist of 3 relu layers, 2 dropout layers. And the final one is\r\n",
        "# sigmoid. These parameters are optimal for multi classification.\r\n",
        "model.compile(optimizer='adam',\r\n",
        "              loss=tf.keras.losses.SparseCategoricalCrossentropy(from_logits=True),\r\n",
        "              metrics='accuracy')\r\n",
        "# usign adam optimizer with CategoricalCrossentropy."
      ],
      "execution_count": 114,
      "outputs": []
    },
    {
      "cell_type": "code",
      "metadata": {
        "colab": {
          "base_uri": "https://localhost:8080/"
        },
        "id": "AfP2J83mnpfH",
        "outputId": "66640e02-6122-403e-e368-af837863d27b"
      },
      "source": [
        "model.build()\r\n",
        "model.summary()"
      ],
      "execution_count": 115,
      "outputs": [
        {
          "output_type": "stream",
          "text": [
            "Model: \"sequential_7\"\n",
            "_________________________________________________________________\n",
            "Layer (type)                 Output Shape              Param #   \n",
            "=================================================================\n",
            "dense_31 (Dense)             (None, 92000, 32)         192       \n",
            "_________________________________________________________________\n",
            "dense_32 (Dense)             (None, 92000, 16)         528       \n",
            "_________________________________________________________________\n",
            "dropout_16 (Dropout)         (None, 92000, 16)         0         \n",
            "_________________________________________________________________\n",
            "dense_33 (Dense)             (None, 92000, 8)          136       \n",
            "_________________________________________________________________\n",
            "dropout_17 (Dropout)         (None, 92000, 8)          0         \n",
            "_________________________________________________________________\n",
            "dense_34 (Dense)             (None, 92000, 6)          54        \n",
            "=================================================================\n",
            "Total params: 910\n",
            "Trainable params: 910\n",
            "Non-trainable params: 0\n",
            "_________________________________________________________________\n"
          ],
          "name": "stdout"
        }
      ]
    },
    {
      "cell_type": "code",
      "metadata": {
        "id": "cXNNkDnwvQzM",
        "colab": {
          "base_uri": "https://localhost:8080/"
        },
        "outputId": "68e49086-e3ad-4877-8c65-823b087b6630"
      },
      "source": [
        "model.fit(train_dataset, epochs=20)"
      ],
      "execution_count": 116,
      "outputs": [
        {
          "output_type": "stream",
          "text": [
            "Epoch 1/20\n",
            "WARNING:tensorflow:Model was constructed with shape (None, 92000, 5) for input KerasTensor(type_spec=TensorSpec(shape=(None, 92000, 5), dtype=tf.float32, name='dense_31_input'), name='dense_31_input', description=\"created by layer 'dense_31_input'\"), but it was called on an input with incompatible shape (None, 5).\n",
            "WARNING:tensorflow:Model was constructed with shape (None, 92000, 5) for input KerasTensor(type_spec=TensorSpec(shape=(None, 92000, 5), dtype=tf.float32, name='dense_31_input'), name='dense_31_input', description=\"created by layer 'dense_31_input'\"), but it was called on an input with incompatible shape (None, 5).\n",
            "920/920 [==============================] - 2s 2ms/step - loss: 1.2962 - accuracy: 0.5361\n",
            "Epoch 2/20\n",
            "920/920 [==============================] - 1s 2ms/step - loss: 0.9103 - accuracy: 0.6699\n",
            "Epoch 3/20\n",
            "920/920 [==============================] - 2s 2ms/step - loss: 0.7714 - accuracy: 0.7068\n",
            "Epoch 4/20\n",
            "920/920 [==============================] - 1s 2ms/step - loss: 0.7149 - accuracy: 0.7332\n",
            "Epoch 5/20\n",
            "920/920 [==============================] - 2s 2ms/step - loss: 0.6712 - accuracy: 0.7486\n",
            "Epoch 6/20\n",
            "920/920 [==============================] - 1s 2ms/step - loss: 0.6413 - accuracy: 0.7607\n",
            "Epoch 7/20\n",
            "920/920 [==============================] - 2s 2ms/step - loss: 0.6178 - accuracy: 0.7716\n",
            "Epoch 8/20\n",
            "920/920 [==============================] - 2s 2ms/step - loss: 0.6015 - accuracy: 0.7789\n",
            "Epoch 9/20\n",
            "920/920 [==============================] - 1s 2ms/step - loss: 0.5937 - accuracy: 0.7807\n",
            "Epoch 10/20\n",
            "920/920 [==============================] - 1s 2ms/step - loss: 0.5814 - accuracy: 0.7834\n",
            "Epoch 11/20\n",
            "920/920 [==============================] - 1s 2ms/step - loss: 0.5752 - accuracy: 0.7876\n",
            "Epoch 12/20\n",
            "920/920 [==============================] - 1s 2ms/step - loss: 0.5658 - accuracy: 0.7896\n",
            "Epoch 13/20\n",
            "920/920 [==============================] - 1s 2ms/step - loss: 0.5579 - accuracy: 0.7911\n",
            "Epoch 14/20\n",
            "920/920 [==============================] - 1s 2ms/step - loss: 0.5545 - accuracy: 0.7916\n",
            "Epoch 15/20\n",
            "920/920 [==============================] - 2s 2ms/step - loss: 0.5505 - accuracy: 0.7919\n",
            "Epoch 16/20\n",
            "920/920 [==============================] - 1s 2ms/step - loss: 0.5449 - accuracy: 0.7963\n",
            "Epoch 17/20\n",
            "920/920 [==============================] - 1s 2ms/step - loss: 0.5383 - accuracy: 0.7982\n",
            "Epoch 18/20\n",
            "920/920 [==============================] - 2s 2ms/step - loss: 0.5355 - accuracy: 0.7992\n",
            "Epoch 19/20\n",
            "920/920 [==============================] - 2s 2ms/step - loss: 0.5230 - accuracy: 0.8058\n",
            "Epoch 20/20\n",
            "920/920 [==============================] - 1s 2ms/step - loss: 0.5272 - accuracy: 0.8010\n"
          ],
          "name": "stdout"
        },
        {
          "output_type": "execute_result",
          "data": {
            "text/plain": [
              "<tensorflow.python.keras.callbacks.History at 0x7fc7f82e5e50>"
            ]
          },
          "metadata": {
            "tags": []
          },
          "execution_count": 116
        }
      ]
    },
    {
      "cell_type": "code",
      "metadata": {
        "id": "6FatAq32voV6",
        "colab": {
          "base_uri": "https://localhost:8080/"
        },
        "outputId": "b8061342-18a6-48c4-c354-9b13a3b58cf6"
      },
      "source": [
        "predictions = model.predict(test_dataset)\r\n",
        "c = np.argmax(predictions, axis = 1)\r\n",
        "target = target[500:1000]\r\n",
        "target = np.asarray(target).astype(np.int32)\r\n",
        "accuracy = 0.0\r\n",
        "for i in range(len(target)):\r\n",
        "  if c[i] == target[i]:\r\n",
        "    accuracy += 1.0\r\n",
        "accuracy *= 100/500\r\n",
        "print('Accuracy: {:.2f}%'.format(accuracy))"
      ],
      "execution_count": 118,
      "outputs": [
        {
          "output_type": "stream",
          "text": [
            "Accuracy: 84.60%\n"
          ],
          "name": "stdout"
        }
      ]
    },
    {
      "cell_type": "markdown",
      "metadata": {
        "id": "E9hfMowbC8U3"
      },
      "source": [
        "### Conclusion\r\n",
        "* Accuracy of our model was 84.60%.\r\n",
        "* With real pre labelled data, I'm confident we can improve our accuracy upto 95%.\r\n",
        "* Frauds can be detected by visualizing personal data."
      ]
    }
  ]
}
